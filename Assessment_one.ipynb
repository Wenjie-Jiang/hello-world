{
  "nbformat": 4,
  "nbformat_minor": 0,
  "metadata": {
    "colab": {
      "name": "Assessment one.ipynb",
      "version": "0.3.2",
      "provenance": [],
      "include_colab_link": true
    },
    "kernelspec": {
      "name": "python3",
      "display_name": "Python 3"
    }
  },
  "cells": [
    {
      "cell_type": "markdown",
      "metadata": {
        "id": "view-in-github",
        "colab_type": "text"
      },
      "source": [
        "<a href=\"https://colab.research.google.com/github/Wenjie-Jiang/hello-world/blob/master/Assessment_one.ipynb\" target=\"_parent\"><img src=\"https://colab.research.google.com/assets/colab-badge.svg\" alt=\"Open In Colab\"/></a>"
      ]
    },
    {
      "cell_type": "code",
      "metadata": {
        "id": "67MIButqIILY",
        "colab_type": "code",
        "colab": {}
      },
      "source": [
        ""
      ],
      "execution_count": 0,
      "outputs": []
    },
    {
      "cell_type": "markdown",
      "metadata": {
        "id": "RvtHGBh7IJNO",
        "colab_type": "text"
      },
      "source": [
        "#Eigenfaces vs. Fisherfaces: Recognition Using Class Specific Linear Projection\n",
        "##Introduction \n",
        "##Content \n",
        "In the modern information age, research on biological characteristics has become more and more important, and human information has become more and more valuable. Face recognition technology has been widely used, and has now developed into a major technology in various fields, which plays an important role in serious social problems and national security issues. Face recognition has a high recognition rate for massive face databases with good posture and illumination conditions. It can be used to replace low security requirements and can be successfully applied to different environments such as multimedia. Since Woody Bledsoe and two other researchers conducted their first computer-based face recognition studies in 1964 and 1965, many ways have been taken to identify faces. This article examines a face recognition algorithm that is insensitive to illumination changes. The article solves the problem of Face Recognition. This article is a face recognition technology based on dimensionality reduction: Fisher Faces algorithm. The algorithm is based on linear discriminant analysis (LDA). Principal component analysis found a linear combination of features with the largest total variance in the data. This is a very powerful method of representing data that is not affected by photosensitivity. Although it is similar to a feature face, it enhances the classification of different image categories. The Fisherface method proposed in this paper is insensitive to changes in light and facial expressions. In order to illustrate, this paper compares the advantages and disadvantages of four methods: Correlation, Eigenfaces, Linear Subspaces, Fisherfaces their respective strengths and weaknesses.  \n",
        "##Innovation \n",
        "In this paper, labeled face images are used as research data, and unlabeled face images are used as test data. All face categories in unlabeled face images come from labeled face images. Researchers need to design algorithms to determine which category the test image belongs to.\n",
        "The innovation of this article is that the researchers describe a new method of facial recognition - insensitive to large changes in lighting. Illumination variability includes not only intensity, but also the direction and quantity of light. The authors found through research that the same person, the same facial expression, from the same point of view, when the light source is illuminated, they will look very different.\n",
        "This paper also finds some problems through comparison: for example, how to extend the Fisherface method to large databases? The existing face recognition methods are easy to decompose under special illumination conditions, and need new detection methods. When shadows dominate, performance degradation may be desirable for all presented recognition methods and models or masks of technical shadow regions. Researchers are investigating image conditions that represent a model's ability to send a set of objects under all possible illumination, and show that the n-pixel set of objects of any shape and the age of any reflection are seen in all possible lighting conditions. It seems that this raised illumination cone is close to the low dimensional linear subspace. \n",
        "##Technical quality \n",
        "I think the technical quality of this paper is relatively strong. Although only introducing the face recognition algorithm, the researcher s through a large number of experimental results show that the error rate of the proposed \"Fisherfaces\" technology is lower than that of the feature face. First, the researchers choose the Correlation method. Correlation is the simplest strategy in the nearest neighbors algorithm. First, the normalization process is performed on all the images, and then the distance between the test image and each image in the learning set is calculated; the labeled face image closest to the test image is found, and the label of this image is regarded as the category of the test image. The disadvantage of this method is that the lighting conditions cause the pictures that originally belong to the same face to be far apart, and the distance calculation is expensive. In view of the shortcomings of Correlation, the researchers used the strategy of dimension reduction, so there is the Eigenfaces method. In this method, researchers use M-dimensional data to represent images to maximize the dispersion of images in all marked sets, that is, all images in all courses. However, one of the problems is that there are two different scattering sources between images. One is interspecific scattering, which is used for classification; the other is intra-class scattering, which is not helpful for classification. The next Fisherfaces method takes this into account. The Fisherfaces method is used to correct the form of scattering in order to better represent the difference between images within the class. From the rigor of research, this paper is considered more comprehensive. Emphasis is placed on face recognition algorithms that are insensitive to illumination.\n",
        "##Application and X-factor \n",
        "I think that the application domain is suitable for the technology highlighted in the text - Fisherfaces, but from the research results, the Fisherfaces are disadvantageous. Its main drawback is that it is found that the projection of the face space is more complicated than the feature surface. It takes a lot of processing time to calculate the ratio of inter-class scattering to intra-class scattering. In addition, because of the need for better classification, the projection dimension is much larger than the feature surface representation, which leads to high storage cost and longer recognition time.\n",
        "##Presentation \n",
        "This paper is advisable in the way of presentation. Most of the articles are experimentally explored, which is more convincing. After each experiment, the researcher will summarize the experiment, for example, the advantages and disadvantages of the experiment, where the experiment is applicable, and not applicable in those places. A comparative study of these face recognition algorithms emphasizes the face recognition algorithm used for illumination insensitivity.\n",
        "##Github link\n",
        "https://github.com/Wenjie-Jiang/hello-world/blob/master/Assessment_one.ipynb\n",
        "##References\n",
        "Belhumeur, P., Hespanha, J., & Kriegman, D. (1997). Eigenfaces vs. Fisherfaces: *recognition using class specific linear projection. IEEE Transactions on Pattern Analysis and Machine Intelligence*, 19(7), 711–720. doi: 10.1109/34.598228\n",
        "\n",
        "Brito, A. E. (2000). Applying the eigenfaces and Fisherfaces methods to circuit-board inspection. *Optical Engineering*, 39(12), 3154. doi: 10.1117/1.1327840\n",
        "\n",
        "Bledsoe, W., & Hodges, R. (1988). A Survey of Automated Deduction11This is an enlarged version of a survey talk given by Woody Bledsoe at the Sixth National Conference on Artificial Intelligence, Seattle, Washington, July 16, 1987. *Exploring Artificial Intelligence*, 483–543. doi: 10.1016/b978-0-934613-67-5.50017-4\n",
        "\n",
        "Yang, M.-H. (2002). Kernel Eigenfaces vs. Kernel Fisherfaces: Face recognition using kernel methods. *Proceedings of Fifth IEEE International Conference on Automatic Face Gesture Recognition*. doi: 10.1109/afgr.2002.4527207\n",
        "\n",
        "Sharkas, M., & Elenien, M. A. (2008). Eigenfaces vs. fisherfaces vs. ICA for face recognition; a comparative study. 2008 9th *International Conference on Signal Processing.* doi: 10.1109/icosp.2008.4697276\n"
      ]
    }
  ]
}